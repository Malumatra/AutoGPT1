{
  "cells": [
    {
      "cell_type": "markdown",
      "metadata": {
        "id": "view-in-github",
        "colab_type": "text"
      },
      "source": [
        "<a href=\"https://colab.research.google.com/github/Malumatra/AutoGPT1/blob/master/FREE_AUTO_GPT.ipynb\" target=\"_parent\"><img src=\"https://colab.research.google.com/assets/colab-badge.svg\" alt=\"Open In Colab\"/></a>"
      ]
    },
    {
      "cell_type": "markdown",
      "metadata": {
        "id": "IAnBqnxo2CkR"
      },
      "source": [
        "#USE AI AGENTs, like AUTOGPT or BABYAGI, without paids API. TOTALLY FOR FREE 🎁"
      ]
    },
    {
      "cell_type": "markdown",
      "metadata": {
        "id": "WWnigaEo63W0"
      },
      "source": [
        "## SETUP REPOSITORY 📂\n"
      ]
    },
    {
      "cell_type": "code",
      "execution_count": 4,
      "metadata": {
        "colab": {
          "base_uri": "https://localhost:8080/"
        },
        "id": "Me-TEdpy1-Zx",
        "outputId": "fa4a64ef-6845-4ef3-b90c-0fb14897c11a"
      },
      "outputs": [
        {
          "output_type": "stream",
          "name": "stdout",
          "text": [
            "fatal: destination path 'Free-AUTO-GPT-with-NO-API' already exists and is not an empty directory.\n"
          ]
        }
      ],
      "source": [
        "!git clone https://github.com/IntelligenzaArtificiale/Free-AUTO-GPT-with-NO-API.git\n"
      ]
    },
    {
      "cell_type": "code",
      "execution_count": 5,
      "metadata": {
        "id": "e3ylgJ_P8PBZ",
        "colab": {
          "base_uri": "https://localhost:8080/"
        },
        "outputId": "bd0fda5b-87de-4e1f-fb78-33a69d8bb12e",
        "collapsed": true
      },
      "outputs": [
        {
          "output_type": "stream",
          "name": "stdout",
          "text": [
            "Requirement already satisfied: PyVirtualDisplay in /usr/local/lib/python3.10/dist-packages (3.0)\n",
            "Collecting undetected-chromedriver==3.2.1\n",
            "  Downloading undetected-chromedriver-3.2.1.tar.gz (60 kB)\n",
            "\u001b[2K     \u001b[90m━━━━━━━━━━━━━━━━━━━━━━━━━━━━━━━━━━━━━━━━\u001b[0m \u001b[32m60.0/60.0 kB\u001b[0m \u001b[31m839.9 kB/s\u001b[0m eta \u001b[36m0:00:00\u001b[0m\n",
            "\u001b[?25h  Preparing metadata (setup.py) ... \u001b[?25l\u001b[?25hdone\n",
            "Requirement already satisfied: selenium>=4.0.0 in /usr/local/lib/python3.10/dist-packages (from undetected-chromedriver==3.2.1) (4.21.0)\n",
            "Requirement already satisfied: requests in /usr/local/lib/python3.10/dist-packages (from undetected-chromedriver==3.2.1) (2.31.0)\n",
            "Requirement already satisfied: websockets in /usr/local/lib/python3.10/dist-packages (from undetected-chromedriver==3.2.1) (12.0)\n",
            "Requirement already satisfied: urllib3[socks]<3,>=1.26 in /usr/local/lib/python3.10/dist-packages (from selenium>=4.0.0->undetected-chromedriver==3.2.1) (2.0.7)\n",
            "Requirement already satisfied: trio~=0.17 in /usr/local/lib/python3.10/dist-packages (from selenium>=4.0.0->undetected-chromedriver==3.2.1) (0.25.1)\n",
            "Requirement already satisfied: trio-websocket~=0.9 in /usr/local/lib/python3.10/dist-packages (from selenium>=4.0.0->undetected-chromedriver==3.2.1) (0.11.1)\n",
            "Requirement already satisfied: certifi>=2021.10.8 in /usr/local/lib/python3.10/dist-packages (from selenium>=4.0.0->undetected-chromedriver==3.2.1) (2024.2.2)\n",
            "Requirement already satisfied: typing_extensions>=4.9.0 in /usr/local/lib/python3.10/dist-packages (from selenium>=4.0.0->undetected-chromedriver==3.2.1) (4.11.0)\n",
            "Requirement already satisfied: charset-normalizer<4,>=2 in /usr/local/lib/python3.10/dist-packages (from requests->undetected-chromedriver==3.2.1) (3.3.2)\n",
            "Requirement already satisfied: idna<4,>=2.5 in /usr/local/lib/python3.10/dist-packages (from requests->undetected-chromedriver==3.2.1) (3.7)\n",
            "Requirement already satisfied: attrs>=23.2.0 in /usr/local/lib/python3.10/dist-packages (from trio~=0.17->selenium>=4.0.0->undetected-chromedriver==3.2.1) (23.2.0)\n",
            "Requirement already satisfied: sortedcontainers in /usr/local/lib/python3.10/dist-packages (from trio~=0.17->selenium>=4.0.0->undetected-chromedriver==3.2.1) (2.4.0)\n",
            "Requirement already satisfied: outcome in /usr/local/lib/python3.10/dist-packages (from trio~=0.17->selenium>=4.0.0->undetected-chromedriver==3.2.1) (1.3.0.post0)\n",
            "Requirement already satisfied: sniffio>=1.3.0 in /usr/local/lib/python3.10/dist-packages (from trio~=0.17->selenium>=4.0.0->undetected-chromedriver==3.2.1) (1.3.1)\n",
            "Requirement already satisfied: exceptiongroup in /usr/local/lib/python3.10/dist-packages (from trio~=0.17->selenium>=4.0.0->undetected-chromedriver==3.2.1) (1.2.1)\n",
            "Requirement already satisfied: wsproto>=0.14 in /usr/local/lib/python3.10/dist-packages (from trio-websocket~=0.9->selenium>=4.0.0->undetected-chromedriver==3.2.1) (1.2.0)\n",
            "Requirement already satisfied: pysocks!=1.5.7,<2.0,>=1.5.6 in /usr/local/lib/python3.10/dist-packages (from urllib3[socks]<3,>=1.26->selenium>=4.0.0->undetected-chromedriver==3.2.1) (1.7.1)\n",
            "Requirement already satisfied: h11<1,>=0.9.0 in /usr/local/lib/python3.10/dist-packages (from wsproto>=0.14->trio-websocket~=0.9->selenium>=4.0.0->undetected-chromedriver==3.2.1) (0.14.0)\n",
            "Building wheels for collected packages: undetected-chromedriver\n",
            "  Building wheel for undetected-chromedriver (setup.py) ... \u001b[?25l\u001b[?25hdone\n",
            "  Created wheel for undetected-chromedriver: filename=undetected_chromedriver-3.2.1-py3-none-any.whl size=46437 sha256=0a4554f7c5a9286d501b76505160efa559748b3c8452d48f956906bf0a82e5b1\n",
            "  Stored in directory: /root/.cache/pip/wheels/88/42/a0/dca35bf77259b8fc5d73cf5613536145b12b38626d5a7ba81b\n",
            "Successfully built undetected-chromedriver\n",
            "Installing collected packages: undetected-chromedriver\n",
            "  Attempting uninstall: undetected-chromedriver\n",
            "    Found existing installation: undetected-chromedriver 3.5.5\n",
            "    Uninstalling undetected-chromedriver-3.5.5:\n",
            "      Successfully uninstalled undetected-chromedriver-3.5.5\n",
            "\u001b[31mERROR: pip's dependency resolver does not currently take into account all the packages that are installed. This behaviour is the source of the following dependency conflicts.\n",
            "gpt4-openai-api 0.9.0 requires undetected-chromedriver>=3.5.3, but you have undetected-chromedriver 3.2.1 which is incompatible.\u001b[0m\u001b[31m\n",
            "\u001b[0mSuccessfully installed undetected-chromedriver-3.2.1\n",
            "\tzip warning: name not matched: /usr/bin/chromedriver\n",
            "\n",
            "zip error: Nothing to do! (/content/chromedriver_linux64.zip)\n"
          ]
        }
      ],
      "source": [
        "import pathlib\n",
        "import re\n",
        "import subprocess\n",
        "import typing\n",
        "\n",
        "\n",
        "def is_in_jupyter_notebook() -> bool:\n",
        "    \"\"\"It checks whether a Jupyter notebook is being run\"\"\"\n",
        "    try:\n",
        "        get_ipython\n",
        "        return True\n",
        "    except NameError:\n",
        "        return False\n",
        "\n",
        "\n",
        "def is_on_gcolab() -> bool:\n",
        "    \"\"\"It checks whether a Jupyter notebook is being run on Google Colab\"\"\"\n",
        "    if not is_in_jupyter_notebook():\n",
        "        return False\n",
        "\n",
        "    return \"google.colab\" in str(get_ipython())\n",
        "\n",
        "\n",
        "def is_ubuntu_20_04() -> bool:\n",
        "    import lsb_release\n",
        "    metadata = lsb_release.get_os_release()\n",
        "\n",
        "    distro  = metadata[\"ID\"].lower()\n",
        "    release = metadata[\"RELEASE\"]\n",
        "\n",
        "    return distro == \"ubuntu\" and release == \"20.04\"\n",
        "\n",
        "\n",
        "def setup_ubuntu_20_04() -> None:\n",
        "    \"\"\"It sets up a Ubuntu 20.04 container with `chromium-browser`\n",
        "\n",
        "    For more information, see\n",
        "    https://github.com/googlecolab/colabtools/issues/3347#issuecomment-1387453484\n",
        "    \"\"\"\n",
        "    # It adds debian buster\n",
        "    EOF_debian_buster = \"\"\"\\\n",
        "deb [arch=amd64 signed-by=/usr/share/keyrings/debian-buster.gpg] http://deb.debian.org/debian buster main\n",
        "deb [arch=amd64 signed-by=/usr/share/keyrings/debian-buster-updates.gpg] http://deb.debian.org/debian buster-updates main\n",
        "deb [arch=amd64 signed-by=/usr/share/keyrings/debian-security-buster.gpg] http://deb.debian.org/debian-security buster/updates main\n",
        "\"\"\"\n",
        "    !echo \"$EOF_debian_buster\" > /etc/apt/sources.list.d/debian.list\n",
        "\n",
        "    # It adds keys\n",
        "    !apt-key adv --keyserver keyserver.ubuntu.com --recv-keys DCC9EFBF77E11517\n",
        "    !apt-key adv --keyserver keyserver.ubuntu.com --recv-keys 648ACFD622F3D138\n",
        "    !apt-key adv --keyserver keyserver.ubuntu.com --recv-keys 112695A0E562B32A\n",
        "\n",
        "    !apt-key export 77E11517 | gpg --dearmour -o /usr/share/keyrings/debian-buster.gpg\n",
        "    !apt-key export 22F3D138 | gpg --dearmour -o /usr/share/keyrings/debian-buster-updates.gpg\n",
        "    !apt-key export E562B32A | gpg --dearmour -o /usr/share/keyrings/debian-security-buster.gpg\n",
        "\n",
        "    # It adds the debian repo for chromium* packages only\n",
        "    # Note the double-blank lines between entries\n",
        "    EOF_chromium_pref = \"\"\"\\\n",
        "Package: *\n",
        "Pin: release a=eoan\n",
        "Pin-Priority: 500\n",
        "\n",
        "\n",
        "Package: *\n",
        "Pin: origin \"deb.debian.org\"\n",
        "Pin-Priority: 300\n",
        "\n",
        "\n",
        "Package: chromium*\n",
        "Pin: origin \"deb.debian.org\"\n",
        "Pin-Priority: 700\n",
        "\"\"\"\n",
        "    !echo \"$EOF_chromium_pref\" > /etc/apt/preferences.d/chromium.pref\n",
        "\n",
        "    # It installs the packages\n",
        "    !apt-get update\n",
        "    !apt-get install chromium chromium-driver\n",
        "    !apt-get install -y xvfb\n",
        "\n",
        "\n",
        "def setup_requirements() -> None:\n",
        "    PIP_requirements = \" \".join([\n",
        "        \"PyVirtualDisplay\", # To run a virtual display\n",
        "        \"undetected-chromedriver==3.2.1\",\n",
        "    ])\n",
        "\n",
        "    !python3 -m pip install --upgrade $PIP_requirements\n",
        "\n",
        "\n",
        "def get_py_module_path(module: str) -> typing.Optional[pathlib.Path]:\n",
        "    \"\"\"It gets the absolute path of a Python module\"\"\"\n",
        "    r = subprocess.run(\n",
        "        [\"pip\", \"show\", module],\n",
        "        capture_output=True\n",
        "    )\n",
        "\n",
        "    try:\n",
        "        r.check_returncode()\n",
        "    except subprocess.CalledProcessError:\n",
        "        return None\n",
        "\n",
        "    stdout = r.stdout.decode()\n",
        "\n",
        "    try:\n",
        "        RE_abspath = \"\\nLocation: (?P<abspath>.*)\\n\"\n",
        "\n",
        "        matches = re.search(RE_abspath, stdout)\n",
        "        abspath = matches.group(\"abspath\")\n",
        "    except AttributeError:\n",
        "        return None\n",
        "\n",
        "    dist_packages = pathlib.Path(abspath).resolve()\n",
        "    return dist_packages / module\n",
        "\n",
        "\n",
        "def patch_undetected_chromedriver() -> None:\n",
        "    \"\"\"It forces `undetected_chromedriver` to run the Chromium webdriver\n",
        "\n",
        "    For more information, see\n",
        "    https://github.com/ultrafunkamsterdam/undetected-chromedriver/issues/108#issuecomment-1170269377\n",
        "    \"\"\"\n",
        "    chromedriver_filename = \"chromedriver_linux64.zip\"\n",
        "\n",
        "    src_chromedriver_filepath = ROOT / chromedriver_filename\n",
        "    dst_chromedriver_filepath = pathlib.Path(\"/tmp\") / chromedriver_filename\n",
        "\n",
        "    !zip -j \"$src_chromedriver_filepath\" /usr/bin/chromedriver\n",
        "\n",
        "    PY_module = \"undetected_chromedriver\"\n",
        "    module_path = get_py_module_path(PY_module)\n",
        "\n",
        "    patcher_filepath = module_path / \"patcher.py\"\n",
        "\n",
        "    with patcher_filepath.open(\"rt\") as f:\n",
        "        contents = f.read()\n",
        "\n",
        "    src = f\"'file://{src_chromedriver_filepath}'\"\n",
        "    dst = f\"'{dst_chromedriver_filepath}'\"\n",
        "\n",
        "    # It is forced to use the local webdriver\n",
        "    contents = contents.replace(\n",
        "        f\"return urlretrieve(u)[0]\",\n",
        "        f\"return urlretrieve({src}, filename={dst})[0]\"\n",
        "    )\n",
        "\n",
        "    with patcher_filepath.open(\"wt\") as f:\n",
        "        f.write(contents)\n",
        "\n",
        "\n",
        "def setup_container() -> None:\n",
        "    \"\"\"It sets up the container which is being run\"\"\"\n",
        "    if is_ubuntu_20_04():\n",
        "        setup_ubuntu_20_04()\n",
        "\n",
        "    setup_requirements()\n",
        "    patch_undetected_chromedriver()\n",
        "\n",
        "\n",
        "ROOT = pathlib.Path(\"/content\")\n",
        "anchor = ROOT / \"anchor.txt\"\n",
        "\n",
        "\n",
        "assert is_on_gcolab(), \"It seems you are not on Google Colab\"\n",
        "\n",
        "# It will set the Google Colab container up only\n",
        "# after disconnections, not after restarts\n",
        "if not anchor.exists():\n",
        "    setup_container()\n",
        "    anchor.touch()"
      ]
    },
    {
      "cell_type": "code",
      "source": [
        "from google.colab import drive\n",
        "drive.mount('/content/drive')"
      ],
      "metadata": {
        "id": "5ybXwxb8cFB-",
        "outputId": "3db31c55-bea3-4d04-d248-7af1c4d79adc",
        "colab": {
          "base_uri": "https://localhost:8080/"
        }
      },
      "execution_count": 6,
      "outputs": [
        {
          "output_type": "stream",
          "name": "stdout",
          "text": [
            "Drive already mounted at /content/drive; to attempt to forcibly remount, call drive.mount(\"/content/drive\", force_remount=True).\n"
          ]
        }
      ]
    },
    {
      "cell_type": "code",
      "execution_count": 3,
      "metadata": {
        "colab": {
          "base_uri": "https://localhost:8080/"
        },
        "id": "npyZzszN7MhH",
        "outputId": "07e42a21-506a-4ea1-94b9-c938fdda010b",
        "collapsed": true
      },
      "outputs": [
        {
          "output_type": "stream",
          "name": "stdout",
          "text": [
            "Requirement already satisfied: requests in /usr/local/lib/python3.10/dist-packages (from -r /content/Free-AUTO-GPT-with-NO-API/requirements.txt (line 1)) (2.31.0)\n",
            "Collecting langchain (from -r /content/Free-AUTO-GPT-with-NO-API/requirements.txt (line 2))\n",
            "  Downloading langchain-0.2.1-py3-none-any.whl (973 kB)\n",
            "\u001b[2K     \u001b[90m━━━━━━━━━━━━━━━━━━━━━━━━━━━━━━━━━━━━━━━━\u001b[0m \u001b[32m973.5/973.5 kB\u001b[0m \u001b[31m4.5 MB/s\u001b[0m eta \u001b[36m0:00:00\u001b[0m\n",
            "\u001b[?25hCollecting streamlit (from -r /content/Free-AUTO-GPT-with-NO-API/requirements.txt (line 3))\n",
            "  Downloading streamlit-1.35.0-py2.py3-none-any.whl (8.6 MB)\n",
            "\u001b[2K     \u001b[90m━━━━━━━━━━━━━━━━━━━━━━━━━━━━━━━━━━━━━━━━\u001b[0m \u001b[32m8.6/8.6 MB\u001b[0m \u001b[31m46.7 MB/s\u001b[0m eta \u001b[36m0:00:00\u001b[0m\n",
            "\u001b[?25hCollecting streamlit-chat-media (from -r /content/Free-AUTO-GPT-with-NO-API/requirements.txt (line 4))\n",
            "  Downloading streamlit_chat_media-0.0.4-py3-none-any.whl (2.7 MB)\n",
            "\u001b[2K     \u001b[90m━━━━━━━━━━━━━━━━━━━━━━━━━━━━━━━━━━━━━━━━\u001b[0m \u001b[32m2.7/2.7 MB\u001b[0m \u001b[31m73.1 MB/s\u001b[0m eta \u001b[36m0:00:00\u001b[0m\n",
            "\u001b[?25hRequirement already satisfied: numpy in /usr/local/lib/python3.10/dist-packages (from -r /content/Free-AUTO-GPT-with-NO-API/requirements.txt (line 5)) (1.25.2)\n",
            "Collecting retry (from -r /content/Free-AUTO-GPT-with-NO-API/requirements.txt (line 6))\n",
            "  Downloading retry-0.9.2-py2.py3-none-any.whl (8.0 kB)\n",
            "Collecting duckduckgo-search (from -r /content/Free-AUTO-GPT-with-NO-API/requirements.txt (line 7))\n",
            "  Downloading duckduckgo_search-6.1.4-py3-none-any.whl (24 kB)\n",
            "Requirement already satisfied: transformers in /usr/local/lib/python3.10/dist-packages (from -r /content/Free-AUTO-GPT-with-NO-API/requirements.txt (line 8)) (4.41.1)\n",
            "Requirement already satisfied: tabulate in /usr/local/lib/python3.10/dist-packages (from -r /content/Free-AUTO-GPT-with-NO-API/requirements.txt (line 9)) (0.9.0)\n",
            "Collecting wikipedia (from -r /content/Free-AUTO-GPT-with-NO-API/requirements.txt (line 10))\n",
            "  Downloading wikipedia-1.4.0.tar.gz (27 kB)\n",
            "  Preparing metadata (setup.py) ... \u001b[?25l\u001b[?25hdone\n",
            "Collecting faiss-gpu (from -r /content/Free-AUTO-GPT-with-NO-API/requirements.txt (line 11))\n",
            "  Downloading faiss_gpu-1.7.2-cp310-cp310-manylinux_2_17_x86_64.manylinux2014_x86_64.whl (85.5 MB)\n",
            "\u001b[2K     \u001b[90m━━━━━━━━━━━━━━━━━━━━━━━━━━━━━━━━━━━━━━━━\u001b[0m \u001b[32m85.5/85.5 MB\u001b[0m \u001b[31m7.3 MB/s\u001b[0m eta \u001b[36m0:00:00\u001b[0m\n",
            "\u001b[?25hRequirement already satisfied: nest_asyncio in /usr/local/lib/python3.10/dist-packages (from -r /content/Free-AUTO-GPT-with-NO-API/requirements.txt (line 13)) (1.6.0)\n",
            "Requirement already satisfied: torch in /usr/local/lib/python3.10/dist-packages (from -r /content/Free-AUTO-GPT-with-NO-API/requirements.txt (line 14)) (2.3.0+cu121)\n",
            "Collecting pytest-playwright (from -r /content/Free-AUTO-GPT-with-NO-API/requirements.txt (line 17))\n",
            "  Downloading pytest_playwright-0.5.0-py3-none-any.whl (12 kB)\n",
            "Collecting undetected-chromedriver>=3.2.1 (from -r /content/Free-AUTO-GPT-with-NO-API/requirements.txt (line 18))\n",
            "  Downloading undetected-chromedriver-3.5.5.tar.gz (65 kB)\n",
            "\u001b[2K     \u001b[90m━━━━━━━━━━━━━━━━━━━━━━━━━━━━━━━━━━━━━━━━\u001b[0m \u001b[32m65.4/65.4 kB\u001b[0m \u001b[31m7.3 MB/s\u001b[0m eta \u001b[36m0:00:00\u001b[0m\n",
            "\u001b[?25h  Preparing metadata (setup.py) ... \u001b[?25l\u001b[?25hdone\n",
            "Collecting markdownify>=0.11.6 (from -r /content/Free-AUTO-GPT-with-NO-API/requirements.txt (line 19))\n",
            "  Downloading markdownify-0.12.1-py3-none-any.whl (16 kB)\n",
            "Collecting hugchat (from -r /content/Free-AUTO-GPT-with-NO-API/requirements.txt (line 20))\n",
            "  Downloading hugchat-0.4.7-py3-none-any.whl (33 kB)\n",
            "Collecting python-dotenv (from -r /content/Free-AUTO-GPT-with-NO-API/requirements.txt (line 21))\n",
            "  Downloading python_dotenv-1.0.1-py3-none-any.whl (19 kB)\n",
            "Collecting EdgeGPT (from -r /content/Free-AUTO-GPT-with-NO-API/requirements.txt (line 22))\n",
            "  Downloading EdgeGPT-0.13.2-py3-none-any.whl (24 kB)\n",
            "Collecting GoogleBard (from -r /content/Free-AUTO-GPT-with-NO-API/requirements.txt (line 23))\n",
            "  Downloading GoogleBard-2.1.0-py3-none-any.whl (6.3 kB)\n",
            "Collecting lark (from -r /content/Free-AUTO-GPT-with-NO-API/requirements.txt (line 24))\n",
            "  Downloading lark-1.1.9-py3-none-any.whl (111 kB)\n",
            "\u001b[2K     \u001b[90m━━━━━━━━━━━━━━━━━━━━━━━━━━━━━━━━━━━━━━━━\u001b[0m \u001b[32m111.7/111.7 kB\u001b[0m \u001b[31m13.7 MB/s\u001b[0m eta \u001b[36m0:00:00\u001b[0m\n",
            "\u001b[?25hCollecting accelerate (from -r /content/Free-AUTO-GPT-with-NO-API/requirements.txt (line 25))\n",
            "  Downloading accelerate-0.30.1-py3-none-any.whl (302 kB)\n",
            "\u001b[2K     \u001b[90m━━━━━━━━━━━━━━━━━━━━━━━━━━━━━━━━━━━━━━━━\u001b[0m \u001b[32m302.6/302.6 kB\u001b[0m \u001b[31m33.8 MB/s\u001b[0m eta \u001b[36m0:00:00\u001b[0m\n",
            "\u001b[?25hCollecting diffusers (from -r /content/Free-AUTO-GPT-with-NO-API/requirements.txt (line 26))\n",
            "  Downloading diffusers-0.28.0-py3-none-any.whl (2.2 MB)\n",
            "\u001b[2K     \u001b[90m━━━━━━━━━━━━━━━━━━━━━━━━━━━━━━━━━━━━━━━━\u001b[0m \u001b[32m2.2/2.2 MB\u001b[0m \u001b[31m84.1 MB/s\u001b[0m eta \u001b[36m0:00:00\u001b[0m\n",
            "\u001b[?25hCollecting gpt4-openai-api (from -r /content/Free-AUTO-GPT-with-NO-API/requirements.txt (line 27))\n",
            "  Downloading gpt4_openai_api-0.9.0-py3-none-any.whl (10 kB)\n",
            "Requirement already satisfied: charset-normalizer<4,>=2 in /usr/local/lib/python3.10/dist-packages (from requests->-r /content/Free-AUTO-GPT-with-NO-API/requirements.txt (line 1)) (3.3.2)\n",
            "Requirement already satisfied: idna<4,>=2.5 in /usr/local/lib/python3.10/dist-packages (from requests->-r /content/Free-AUTO-GPT-with-NO-API/requirements.txt (line 1)) (3.7)\n",
            "Requirement already satisfied: urllib3<3,>=1.21.1 in /usr/local/lib/python3.10/dist-packages (from requests->-r /content/Free-AUTO-GPT-with-NO-API/requirements.txt (line 1)) (2.0.7)\n",
            "Requirement already satisfied: certifi>=2017.4.17 in /usr/local/lib/python3.10/dist-packages (from requests->-r /content/Free-AUTO-GPT-with-NO-API/requirements.txt (line 1)) (2024.2.2)\n",
            "Requirement already satisfied: PyYAML>=5.3 in /usr/local/lib/python3.10/dist-packages (from langchain->-r /content/Free-AUTO-GPT-with-NO-API/requirements.txt (line 2)) (6.0.1)\n",
            "Requirement already satisfied: SQLAlchemy<3,>=1.4 in /usr/local/lib/python3.10/dist-packages (from langchain->-r /content/Free-AUTO-GPT-with-NO-API/requirements.txt (line 2)) (2.0.30)\n",
            "Requirement already satisfied: aiohttp<4.0.0,>=3.8.3 in /usr/local/lib/python3.10/dist-packages (from langchain->-r /content/Free-AUTO-GPT-with-NO-API/requirements.txt (line 2)) (3.9.5)\n",
            "Requirement already satisfied: async-timeout<5.0.0,>=4.0.0 in /usr/local/lib/python3.10/dist-packages (from langchain->-r /content/Free-AUTO-GPT-with-NO-API/requirements.txt (line 2)) (4.0.3)\n",
            "Collecting langchain-core<0.3.0,>=0.2.0 (from langchain->-r /content/Free-AUTO-GPT-with-NO-API/requirements.txt (line 2))\n",
            "  Downloading langchain_core-0.2.3-py3-none-any.whl (310 kB)\n",
            "\u001b[2K     \u001b[90m━━━━━━━━━━━━━━━━━━━━━━━━━━━━━━━━━━━━━━━━\u001b[0m \u001b[32m310.2/310.2 kB\u001b[0m \u001b[31m35.1 MB/s\u001b[0m eta \u001b[36m0:00:00\u001b[0m\n",
            "\u001b[?25hCollecting langchain-text-splitters<0.3.0,>=0.2.0 (from langchain->-r /content/Free-AUTO-GPT-with-NO-API/requirements.txt (line 2))\n",
            "  Downloading langchain_text_splitters-0.2.0-py3-none-any.whl (23 kB)\n",
            "Collecting langsmith<0.2.0,>=0.1.17 (from langchain->-r /content/Free-AUTO-GPT-with-NO-API/requirements.txt (line 2))\n",
            "  Downloading langsmith-0.1.67-py3-none-any.whl (124 kB)\n",
            "\u001b[2K     \u001b[90m━━━━━━━━━━━━━━━━━━━━━━━━━━━━━━━━━━━━━━━━\u001b[0m \u001b[32m124.4/124.4 kB\u001b[0m \u001b[31m15.8 MB/s\u001b[0m eta \u001b[36m0:00:00\u001b[0m\n",
            "\u001b[?25hRequirement already satisfied: pydantic<3,>=1 in /usr/local/lib/python3.10/dist-packages (from langchain->-r /content/Free-AUTO-GPT-with-NO-API/requirements.txt (line 2)) (2.7.1)\n",
            "Requirement already satisfied: tenacity<9.0.0,>=8.1.0 in /usr/local/lib/python3.10/dist-packages (from langchain->-r /content/Free-AUTO-GPT-with-NO-API/requirements.txt (line 2)) (8.3.0)\n",
            "Requirement already satisfied: altair<6,>=4.0 in /usr/local/lib/python3.10/dist-packages (from streamlit->-r /content/Free-AUTO-GPT-with-NO-API/requirements.txt (line 3)) (4.2.2)\n",
            "Requirement already satisfied: blinker<2,>=1.0.0 in /usr/lib/python3/dist-packages (from streamlit->-r /content/Free-AUTO-GPT-with-NO-API/requirements.txt (line 3)) (1.4)\n",
            "Requirement already satisfied: cachetools<6,>=4.0 in /usr/local/lib/python3.10/dist-packages (from streamlit->-r /content/Free-AUTO-GPT-with-NO-API/requirements.txt (line 3)) (5.3.3)\n",
            "Requirement already satisfied: click<9,>=7.0 in /usr/local/lib/python3.10/dist-packages (from streamlit->-r /content/Free-AUTO-GPT-with-NO-API/requirements.txt (line 3)) (8.1.7)\n",
            "Requirement already satisfied: packaging<25,>=16.8 in /usr/local/lib/python3.10/dist-packages (from streamlit->-r /content/Free-AUTO-GPT-with-NO-API/requirements.txt (line 3)) (24.0)\n",
            "Requirement already satisfied: pandas<3,>=1.3.0 in /usr/local/lib/python3.10/dist-packages (from streamlit->-r /content/Free-AUTO-GPT-with-NO-API/requirements.txt (line 3)) (2.0.3)\n",
            "Requirement already satisfied: pillow<11,>=7.1.0 in /usr/local/lib/python3.10/dist-packages (from streamlit->-r /content/Free-AUTO-GPT-with-NO-API/requirements.txt (line 3)) (9.4.0)\n",
            "Requirement already satisfied: protobuf<5,>=3.20 in /usr/local/lib/python3.10/dist-packages (from streamlit->-r /content/Free-AUTO-GPT-with-NO-API/requirements.txt (line 3)) (3.20.3)\n",
            "Requirement already satisfied: pyarrow>=7.0 in /usr/local/lib/python3.10/dist-packages (from streamlit->-r /content/Free-AUTO-GPT-with-NO-API/requirements.txt (line 3)) (14.0.2)\n",
            "Requirement already satisfied: rich<14,>=10.14.0 in /usr/local/lib/python3.10/dist-packages (from streamlit->-r /content/Free-AUTO-GPT-with-NO-API/requirements.txt (line 3)) (13.7.1)\n",
            "Requirement already satisfied: toml<2,>=0.10.1 in /usr/local/lib/python3.10/dist-packages (from streamlit->-r /content/Free-AUTO-GPT-with-NO-API/requirements.txt (line 3)) (0.10.2)\n",
            "Requirement already satisfied: typing-extensions<5,>=4.3.0 in /usr/local/lib/python3.10/dist-packages (from streamlit->-r /content/Free-AUTO-GPT-with-NO-API/requirements.txt (line 3)) (4.11.0)\n",
            "Collecting gitpython!=3.1.19,<4,>=3.0.7 (from streamlit->-r /content/Free-AUTO-GPT-with-NO-API/requirements.txt (line 3))\n",
            "  Downloading GitPython-3.1.43-py3-none-any.whl (207 kB)\n",
            "\u001b[2K     \u001b[90m━━━━━━━━━━━━━━━━━━━━━━━━━━━━━━━━━━━━━━━━\u001b[0m \u001b[32m207.3/207.3 kB\u001b[0m \u001b[31m25.9 MB/s\u001b[0m eta \u001b[36m0:00:00\u001b[0m\n",
            "\u001b[?25hCollecting pydeck<1,>=0.8.0b4 (from streamlit->-r /content/Free-AUTO-GPT-with-NO-API/requirements.txt (line 3))\n",
            "  Downloading pydeck-0.9.1-py2.py3-none-any.whl (6.9 MB)\n",
            "\u001b[2K     \u001b[90m━━━━━━━━━━━━━━━━━━━━━━━━━━━━━━━━━━━━━━━━\u001b[0m \u001b[32m6.9/6.9 MB\u001b[0m \u001b[31m68.5 MB/s\u001b[0m eta \u001b[36m0:00:00\u001b[0m\n",
            "\u001b[?25hRequirement already satisfied: tornado<7,>=6.0.3 in /usr/local/lib/python3.10/dist-packages (from streamlit->-r /content/Free-AUTO-GPT-with-NO-API/requirements.txt (line 3)) (6.3.3)\n",
            "Collecting watchdog>=2.1.5 (from streamlit->-r /content/Free-AUTO-GPT-with-NO-API/requirements.txt (line 3))\n",
            "  Downloading watchdog-4.0.1-py3-none-manylinux2014_x86_64.whl (83 kB)\n",
            "\u001b[2K     \u001b[90m━━━━━━━━━━━━━━━━━━━━━━━━━━━━━━━━━━━━━━━━\u001b[0m \u001b[32m83.0/83.0 kB\u001b[0m \u001b[31m10.2 MB/s\u001b[0m eta \u001b[36m0:00:00\u001b[0m\n",
            "\u001b[?25hRequirement already satisfied: decorator>=3.4.2 in /usr/local/lib/python3.10/dist-packages (from retry->-r /content/Free-AUTO-GPT-with-NO-API/requirements.txt (line 6)) (4.4.2)\n",
            "Collecting py<2.0.0,>=1.4.26 (from retry->-r /content/Free-AUTO-GPT-with-NO-API/requirements.txt (line 6))\n",
            "  Downloading py-1.11.0-py2.py3-none-any.whl (98 kB)\n",
            "\u001b[2K     \u001b[90m━━━━━━━━━━━━━━━━━━━━━━━━━━━━━━━━━━━━━━━━\u001b[0m \u001b[32m98.7/98.7 kB\u001b[0m \u001b[31m12.7 MB/s\u001b[0m eta \u001b[36m0:00:00\u001b[0m\n",
            "\u001b[?25hCollecting pyreqwest-impersonate>=0.4.7 (from duckduckgo-search->-r /content/Free-AUTO-GPT-with-NO-API/requirements.txt (line 7))\n",
            "  Downloading pyreqwest_impersonate-0.4.7-cp310-cp310-manylinux_2_17_x86_64.manylinux2014_x86_64.whl (2.7 MB)\n",
            "\u001b[2K     \u001b[90m━━━━━━━━━━━━━━━━━━━━━━━━━━━━━━━━━━━━━━━━\u001b[0m \u001b[32m2.7/2.7 MB\u001b[0m \u001b[31m37.4 MB/s\u001b[0m eta \u001b[36m0:00:00\u001b[0m\n",
            "\u001b[?25hCollecting orjson>=3.10.3 (from duckduckgo-search->-r /content/Free-AUTO-GPT-with-NO-API/requirements.txt (line 7))\n",
            "  Downloading orjson-3.10.3-cp310-cp310-manylinux_2_17_x86_64.manylinux2014_x86_64.whl (142 kB)\n",
            "\u001b[2K     \u001b[90m━━━━━━━━━━━━━━━━━━━━━━━━━━━━━━━━━━━━━━━━\u001b[0m \u001b[32m142.5/142.5 kB\u001b[0m \u001b[31m14.5 MB/s\u001b[0m eta \u001b[36m0:00:00\u001b[0m\n",
            "\u001b[?25hRequirement already satisfied: filelock in /usr/local/lib/python3.10/dist-packages (from transformers->-r /content/Free-AUTO-GPT-with-NO-API/requirements.txt (line 8)) (3.14.0)\n",
            "Requirement already satisfied: huggingface-hub<1.0,>=0.23.0 in /usr/local/lib/python3.10/dist-packages (from transformers->-r /content/Free-AUTO-GPT-with-NO-API/requirements.txt (line 8)) (0.23.1)\n",
            "Requirement already satisfied: regex!=2019.12.17 in /usr/local/lib/python3.10/dist-packages (from transformers->-r /content/Free-AUTO-GPT-with-NO-API/requirements.txt (line 8)) (2024.5.15)\n",
            "Requirement already satisfied: tokenizers<0.20,>=0.19 in /usr/local/lib/python3.10/dist-packages (from transformers->-r /content/Free-AUTO-GPT-with-NO-API/requirements.txt (line 8)) (0.19.1)\n",
            "Requirement already satisfied: safetensors>=0.4.1 in /usr/local/lib/python3.10/dist-packages (from transformers->-r /content/Free-AUTO-GPT-with-NO-API/requirements.txt (line 8)) (0.4.3)\n",
            "Requirement already satisfied: tqdm>=4.27 in /usr/local/lib/python3.10/dist-packages (from transformers->-r /content/Free-AUTO-GPT-with-NO-API/requirements.txt (line 8)) (4.66.4)\n",
            "Requirement already satisfied: beautifulsoup4 in /usr/local/lib/python3.10/dist-packages (from wikipedia->-r /content/Free-AUTO-GPT-with-NO-API/requirements.txt (line 10)) (4.12.3)\n",
            "Requirement already satisfied: sympy in /usr/local/lib/python3.10/dist-packages (from torch->-r /content/Free-AUTO-GPT-with-NO-API/requirements.txt (line 14)) (1.12)\n",
            "Requirement already satisfied: networkx in /usr/local/lib/python3.10/dist-packages (from torch->-r /content/Free-AUTO-GPT-with-NO-API/requirements.txt (line 14)) (3.3)\n",
            "Requirement already satisfied: jinja2 in /usr/local/lib/python3.10/dist-packages (from torch->-r /content/Free-AUTO-GPT-with-NO-API/requirements.txt (line 14)) (3.1.4)\n",
            "Requirement already satisfied: fsspec in /usr/local/lib/python3.10/dist-packages (from torch->-r /content/Free-AUTO-GPT-with-NO-API/requirements.txt (line 14)) (2023.6.0)\n",
            "Collecting nvidia-cuda-nvrtc-cu12==12.1.105 (from torch->-r /content/Free-AUTO-GPT-with-NO-API/requirements.txt (line 14))\n",
            "  Using cached nvidia_cuda_nvrtc_cu12-12.1.105-py3-none-manylinux1_x86_64.whl (23.7 MB)\n",
            "Collecting nvidia-cuda-runtime-cu12==12.1.105 (from torch->-r /content/Free-AUTO-GPT-with-NO-API/requirements.txt (line 14))\n",
            "  Using cached nvidia_cuda_runtime_cu12-12.1.105-py3-none-manylinux1_x86_64.whl (823 kB)\n",
            "Collecting nvidia-cuda-cupti-cu12==12.1.105 (from torch->-r /content/Free-AUTO-GPT-with-NO-API/requirements.txt (line 14))\n",
            "  Using cached nvidia_cuda_cupti_cu12-12.1.105-py3-none-manylinux1_x86_64.whl (14.1 MB)\n",
            "Collecting nvidia-cudnn-cu12==8.9.2.26 (from torch->-r /content/Free-AUTO-GPT-with-NO-API/requirements.txt (line 14))\n",
            "  Using cached nvidia_cudnn_cu12-8.9.2.26-py3-none-manylinux1_x86_64.whl (731.7 MB)\n",
            "Collecting nvidia-cublas-cu12==12.1.3.1 (from torch->-r /content/Free-AUTO-GPT-with-NO-API/requirements.txt (line 14))\n",
            "  Using cached nvidia_cublas_cu12-12.1.3.1-py3-none-manylinux1_x86_64.whl (410.6 MB)\n",
            "Collecting nvidia-cufft-cu12==11.0.2.54 (from torch->-r /content/Free-AUTO-GPT-with-NO-API/requirements.txt (line 14))\n",
            "  Using cached nvidia_cufft_cu12-11.0.2.54-py3-none-manylinux1_x86_64.whl (121.6 MB)\n",
            "Collecting nvidia-curand-cu12==10.3.2.106 (from torch->-r /content/Free-AUTO-GPT-with-NO-API/requirements.txt (line 14))\n",
            "  Using cached nvidia_curand_cu12-10.3.2.106-py3-none-manylinux1_x86_64.whl (56.5 MB)\n",
            "Collecting nvidia-cusolver-cu12==11.4.5.107 (from torch->-r /content/Free-AUTO-GPT-with-NO-API/requirements.txt (line 14))\n",
            "  Using cached nvidia_cusolver_cu12-11.4.5.107-py3-none-manylinux1_x86_64.whl (124.2 MB)\n",
            "Collecting nvidia-cusparse-cu12==12.1.0.106 (from torch->-r /content/Free-AUTO-GPT-with-NO-API/requirements.txt (line 14))\n",
            "  Using cached nvidia_cusparse_cu12-12.1.0.106-py3-none-manylinux1_x86_64.whl (196.0 MB)\n",
            "Collecting nvidia-nccl-cu12==2.20.5 (from torch->-r /content/Free-AUTO-GPT-with-NO-API/requirements.txt (line 14))\n",
            "  Using cached nvidia_nccl_cu12-2.20.5-py3-none-manylinux2014_x86_64.whl (176.2 MB)\n",
            "Collecting nvidia-nvtx-cu12==12.1.105 (from torch->-r /content/Free-AUTO-GPT-with-NO-API/requirements.txt (line 14))\n",
            "  Using cached nvidia_nvtx_cu12-12.1.105-py3-none-manylinux1_x86_64.whl (99 kB)\n",
            "Requirement already satisfied: triton==2.3.0 in /usr/local/lib/python3.10/dist-packages (from torch->-r /content/Free-AUTO-GPT-with-NO-API/requirements.txt (line 14)) (2.3.0)\n",
            "Collecting nvidia-nvjitlink-cu12 (from nvidia-cusolver-cu12==11.4.5.107->torch->-r /content/Free-AUTO-GPT-with-NO-API/requirements.txt (line 14))\n",
            "  Downloading nvidia_nvjitlink_cu12-12.5.40-py3-none-manylinux2014_x86_64.whl (21.3 MB)\n",
            "\u001b[2K     \u001b[90m━━━━━━━━━━━━━━━━━━━━━━━━━━━━━━━━━━━━━━━━\u001b[0m \u001b[32m21.3/21.3 MB\u001b[0m \u001b[31m48.8 MB/s\u001b[0m eta \u001b[36m0:00:00\u001b[0m\n",
            "\u001b[?25hCollecting playwright>=1.18 (from pytest-playwright->-r /content/Free-AUTO-GPT-with-NO-API/requirements.txt (line 17))\n",
            "  Downloading playwright-1.44.0-py3-none-manylinux1_x86_64.whl (37.8 MB)\n",
            "\u001b[2K     \u001b[90m━━━━━━━━━━━━━━━━━━━━━━━━━━━━━━━━━━━━━━━━\u001b[0m \u001b[32m37.8/37.8 MB\u001b[0m \u001b[31m12.7 MB/s\u001b[0m eta \u001b[36m0:00:00\u001b[0m\n",
            "\u001b[?25hRequirement already satisfied: pytest<9.0.0,>=6.2.4 in /usr/local/lib/python3.10/dist-packages (from pytest-playwright->-r /content/Free-AUTO-GPT-with-NO-API/requirements.txt (line 17)) (7.4.4)\n",
            "Collecting pytest-base-url<3.0.0,>=1.0.0 (from pytest-playwright->-r /content/Free-AUTO-GPT-with-NO-API/requirements.txt (line 17))\n",
            "  Downloading pytest_base_url-2.1.0-py3-none-any.whl (5.3 kB)\n",
            "Requirement already satisfied: python-slugify<9.0.0,>=6.0.0 in /usr/local/lib/python3.10/dist-packages (from pytest-playwright->-r /content/Free-AUTO-GPT-with-NO-API/requirements.txt (line 17)) (8.0.4)\n",
            "Collecting selenium>=4.9.0 (from undetected-chromedriver>=3.2.1->-r /content/Free-AUTO-GPT-with-NO-API/requirements.txt (line 18))\n",
            "  Downloading selenium-4.21.0-py3-none-any.whl (9.5 MB)\n",
            "\u001b[2K     \u001b[90m━━━━━━━━━━━━━━━━━━━━━━━━━━━━━━━━━━━━━━━━\u001b[0m \u001b[32m9.5/9.5 MB\u001b[0m \u001b[31m75.0 MB/s\u001b[0m eta \u001b[36m0:00:00\u001b[0m\n",
            "\u001b[?25hCollecting websockets (from undetected-chromedriver>=3.2.1->-r /content/Free-AUTO-GPT-with-NO-API/requirements.txt (line 18))\n",
            "  Downloading websockets-12.0-cp310-cp310-manylinux_2_5_x86_64.manylinux1_x86_64.manylinux_2_17_x86_64.manylinux2014_x86_64.whl (130 kB)\n",
            "\u001b[2K     \u001b[90m━━━━━━━━━━━━━━━━━━━━━━━━━━━━━━━━━━━━━━━━\u001b[0m \u001b[32m130.2/130.2 kB\u001b[0m \u001b[31m14.6 MB/s\u001b[0m eta \u001b[36m0:00:00\u001b[0m\n",
            "\u001b[?25hRequirement already satisfied: six<2,>=1.15 in /usr/local/lib/python3.10/dist-packages (from markdownify>=0.11.6->-r /content/Free-AUTO-GPT-with-NO-API/requirements.txt (line 19)) (1.16.0)\n",
            "Collecting requests-toolbelt (from hugchat->-r /content/Free-AUTO-GPT-with-NO-API/requirements.txt (line 20))\n",
            "  Downloading requests_toolbelt-1.0.0-py2.py3-none-any.whl (54 kB)\n",
            "\u001b[2K     \u001b[90m━━━━━━━━━━━━━━━━━━━━━━━━━━━━━━━━━━━━━━━━\u001b[0m \u001b[32m54.5/54.5 kB\u001b[0m \u001b[31m6.5 MB/s\u001b[0m eta \u001b[36m0:00:00\u001b[0m\n",
            "\u001b[?25hCollecting httpx[socks]>=0.24.0 (from EdgeGPT->-r /content/Free-AUTO-GPT-with-NO-API/requirements.txt (line 22))\n",
            "  Downloading httpx-0.27.0-py3-none-any.whl (75 kB)\n",
            "\u001b[2K     \u001b[90m━━━━━━━━━━━━━━━━━━━━━━━━━━━━━━━━━━━━━━━━\u001b[0m \u001b[32m75.6/75.6 kB\u001b[0m \u001b[31m10.4 MB/s\u001b[0m eta \u001b[36m0:00:00\u001b[0m\n",
            "\u001b[?25hRequirement already satisfied: prompt-toolkit in /usr/local/lib/python3.10/dist-packages (from EdgeGPT->-r /content/Free-AUTO-GPT-with-NO-API/requirements.txt (line 22)) (3.0.43)\n",
            "Collecting BingImageCreator>=0.4.4 (from EdgeGPT->-r /content/Free-AUTO-GPT-with-NO-API/requirements.txt (line 22))\n",
            "  Downloading BingImageCreator-0.5.0-py3-none-any.whl (6.8 kB)\n",
            "Requirement already satisfied: psutil in /usr/local/lib/python3.10/dist-packages (from accelerate->-r /content/Free-AUTO-GPT-with-NO-API/requirements.txt (line 25)) (5.9.5)\n",
            "Requirement already satisfied: importlib-metadata in /usr/local/lib/python3.10/dist-packages (from diffusers->-r /content/Free-AUTO-GPT-with-NO-API/requirements.txt (line 26)) (7.1.0)\n",
            "Requirement already satisfied: aiosignal>=1.1.2 in /usr/local/lib/python3.10/dist-packages (from aiohttp<4.0.0,>=3.8.3->langchain->-r /content/Free-AUTO-GPT-with-NO-API/requirements.txt (line 2)) (1.3.1)\n",
            "Requirement already satisfied: attrs>=17.3.0 in /usr/local/lib/python3.10/dist-packages (from aiohttp<4.0.0,>=3.8.3->langchain->-r /content/Free-AUTO-GPT-with-NO-API/requirements.txt (line 2)) (23.2.0)\n",
            "Requirement already satisfied: frozenlist>=1.1.1 in /usr/local/lib/python3.10/dist-packages (from aiohttp<4.0.0,>=3.8.3->langchain->-r /content/Free-AUTO-GPT-with-NO-API/requirements.txt (line 2)) (1.4.1)\n",
            "Requirement already satisfied: multidict<7.0,>=4.5 in /usr/local/lib/python3.10/dist-packages (from aiohttp<4.0.0,>=3.8.3->langchain->-r /content/Free-AUTO-GPT-with-NO-API/requirements.txt (line 2)) (6.0.5)\n",
            "Requirement already satisfied: yarl<2.0,>=1.0 in /usr/local/lib/python3.10/dist-packages (from aiohttp<4.0.0,>=3.8.3->langchain->-r /content/Free-AUTO-GPT-with-NO-API/requirements.txt (line 2)) (1.9.4)\n",
            "Requirement already satisfied: entrypoints in /usr/local/lib/python3.10/dist-packages (from altair<6,>=4.0->streamlit->-r /content/Free-AUTO-GPT-with-NO-API/requirements.txt (line 3)) (0.4)\n",
            "Requirement already satisfied: jsonschema>=3.0 in /usr/local/lib/python3.10/dist-packages (from altair<6,>=4.0->streamlit->-r /content/Free-AUTO-GPT-with-NO-API/requirements.txt (line 3)) (4.19.2)\n",
            "Requirement already satisfied: toolz in /usr/local/lib/python3.10/dist-packages (from altair<6,>=4.0->streamlit->-r /content/Free-AUTO-GPT-with-NO-API/requirements.txt (line 3)) (0.12.1)\n",
            "Requirement already satisfied: soupsieve>1.2 in /usr/local/lib/python3.10/dist-packages (from beautifulsoup4->wikipedia->-r /content/Free-AUTO-GPT-with-NO-API/requirements.txt (line 10)) (2.5)\n",
            "Collecting gitdb<5,>=4.0.1 (from gitpython!=3.1.19,<4,>=3.0.7->streamlit->-r /content/Free-AUTO-GPT-with-NO-API/requirements.txt (line 3))\n",
            "  Downloading gitdb-4.0.11-py3-none-any.whl (62 kB)\n",
            "\u001b[2K     \u001b[90m━━━━━━━━━━━━━━━━━━━━━━━━━━━━━━━━━━━━━━━━\u001b[0m \u001b[32m62.7/62.7 kB\u001b[0m \u001b[31m8.4 MB/s\u001b[0m eta \u001b[36m0:00:00\u001b[0m\n",
            "\u001b[?25hRequirement already satisfied: anyio in /usr/local/lib/python3.10/dist-packages (from httpx[socks]>=0.24.0->EdgeGPT->-r /content/Free-AUTO-GPT-with-NO-API/requirements.txt (line 22)) (3.7.1)\n",
            "Collecting httpcore==1.* (from httpx[socks]>=0.24.0->EdgeGPT->-r /content/Free-AUTO-GPT-with-NO-API/requirements.txt (line 22))\n",
            "  Downloading httpcore-1.0.5-py3-none-any.whl (77 kB)\n",
            "\u001b[2K     \u001b[90m━━━━━━━━━━━━━━━━━━━━━━━━━━━━━━━━━━━━━━━━\u001b[0m \u001b[32m77.9/77.9 kB\u001b[0m \u001b[31m9.8 MB/s\u001b[0m eta \u001b[36m0:00:00\u001b[0m\n",
            "\u001b[?25hRequirement already satisfied: sniffio in /usr/local/lib/python3.10/dist-packages (from httpx[socks]>=0.24.0->EdgeGPT->-r /content/Free-AUTO-GPT-with-NO-API/requirements.txt (line 22)) (1.3.1)\n",
            "Collecting socksio==1.* (from httpx[socks]>=0.24.0->EdgeGPT->-r /content/Free-AUTO-GPT-with-NO-API/requirements.txt (line 22))\n",
            "  Downloading socksio-1.0.0-py3-none-any.whl (12 kB)\n",
            "Collecting h11<0.15,>=0.13 (from httpcore==1.*->httpx[socks]>=0.24.0->EdgeGPT->-r /content/Free-AUTO-GPT-with-NO-API/requirements.txt (line 22))\n",
            "  Downloading h11-0.14.0-py3-none-any.whl (58 kB)\n",
            "\u001b[2K     \u001b[90m━━━━━━━━━━━━━━━━━━━━━━━━━━━━━━━━━━━━━━━━\u001b[0m \u001b[32m58.3/58.3 kB\u001b[0m \u001b[31m6.9 MB/s\u001b[0m eta \u001b[36m0:00:00\u001b[0m\n",
            "\u001b[?25hCollecting jsonpatch<2.0,>=1.33 (from langchain-core<0.3.0,>=0.2.0->langchain->-r /content/Free-AUTO-GPT-with-NO-API/requirements.txt (line 2))\n",
            "  Downloading jsonpatch-1.33-py2.py3-none-any.whl (12 kB)\n",
            "Collecting packaging<25,>=16.8 (from streamlit->-r /content/Free-AUTO-GPT-with-NO-API/requirements.txt (line 3))\n",
            "  Downloading packaging-23.2-py3-none-any.whl (53 kB)\n",
            "\u001b[2K     \u001b[90m━━━━━━━━━━━━━━━━━━━━━━━━━━━━━━━━━━━━━━━━\u001b[0m \u001b[32m53.0/53.0 kB\u001b[0m \u001b[31m6.2 MB/s\u001b[0m eta \u001b[36m0:00:00\u001b[0m\n",
            "\u001b[?25hRequirement already satisfied: python-dateutil>=2.8.2 in /usr/local/lib/python3.10/dist-packages (from pandas<3,>=1.3.0->streamlit->-r /content/Free-AUTO-GPT-with-NO-API/requirements.txt (line 3)) (2.8.2)\n",
            "Requirement already satisfied: pytz>=2020.1 in /usr/local/lib/python3.10/dist-packages (from pandas<3,>=1.3.0->streamlit->-r /content/Free-AUTO-GPT-with-NO-API/requirements.txt (line 3)) (2023.4)\n",
            "Requirement already satisfied: tzdata>=2022.1 in /usr/local/lib/python3.10/dist-packages (from pandas<3,>=1.3.0->streamlit->-r /content/Free-AUTO-GPT-with-NO-API/requirements.txt (line 3)) (2024.1)\n",
            "Requirement already satisfied: greenlet==3.0.3 in /usr/local/lib/python3.10/dist-packages (from playwright>=1.18->pytest-playwright->-r /content/Free-AUTO-GPT-with-NO-API/requirements.txt (line 17)) (3.0.3)\n",
            "Collecting pyee==11.1.0 (from playwright>=1.18->pytest-playwright->-r /content/Free-AUTO-GPT-with-NO-API/requirements.txt (line 17))\n",
            "  Downloading pyee-11.1.0-py3-none-any.whl (15 kB)\n",
            "Requirement already satisfied: annotated-types>=0.4.0 in /usr/local/lib/python3.10/dist-packages (from pydantic<3,>=1->langchain->-r /content/Free-AUTO-GPT-with-NO-API/requirements.txt (line 2)) (0.7.0)\n",
            "Requirement already satisfied: pydantic-core==2.18.2 in /usr/local/lib/python3.10/dist-packages (from pydantic<3,>=1->langchain->-r /content/Free-AUTO-GPT-with-NO-API/requirements.txt (line 2)) (2.18.2)\n",
            "Requirement already satisfied: MarkupSafe>=2.0 in /usr/local/lib/python3.10/dist-packages (from jinja2->torch->-r /content/Free-AUTO-GPT-with-NO-API/requirements.txt (line 14)) (2.1.5)\n",
            "Requirement already satisfied: iniconfig in /usr/local/lib/python3.10/dist-packages (from pytest<9.0.0,>=6.2.4->pytest-playwright->-r /content/Free-AUTO-GPT-with-NO-API/requirements.txt (line 17)) (2.0.0)\n",
            "Requirement already satisfied: pluggy<2.0,>=0.12 in /usr/local/lib/python3.10/dist-packages (from pytest<9.0.0,>=6.2.4->pytest-playwright->-r /content/Free-AUTO-GPT-with-NO-API/requirements.txt (line 17)) (1.5.0)\n",
            "Requirement already satisfied: exceptiongroup>=1.0.0rc8 in /usr/local/lib/python3.10/dist-packages (from pytest<9.0.0,>=6.2.4->pytest-playwright->-r /content/Free-AUTO-GPT-with-NO-API/requirements.txt (line 17)) (1.2.1)\n",
            "Requirement already satisfied: tomli>=1.0.0 in /usr/local/lib/python3.10/dist-packages (from pytest<9.0.0,>=6.2.4->pytest-playwright->-r /content/Free-AUTO-GPT-with-NO-API/requirements.txt (line 17)) (2.0.1)\n",
            "Requirement already satisfied: text-unidecode>=1.3 in /usr/local/lib/python3.10/dist-packages (from python-slugify<9.0.0,>=6.0.0->pytest-playwright->-r /content/Free-AUTO-GPT-with-NO-API/requirements.txt (line 17)) (1.3)\n",
            "Requirement already satisfied: markdown-it-py>=2.2.0 in /usr/local/lib/python3.10/dist-packages (from rich<14,>=10.14.0->streamlit->-r /content/Free-AUTO-GPT-with-NO-API/requirements.txt (line 3)) (3.0.0)\n",
            "Requirement already satisfied: pygments<3.0.0,>=2.13.0 in /usr/local/lib/python3.10/dist-packages (from rich<14,>=10.14.0->streamlit->-r /content/Free-AUTO-GPT-with-NO-API/requirements.txt (line 3)) (2.16.1)\n",
            "Collecting trio~=0.17 (from selenium>=4.9.0->undetected-chromedriver>=3.2.1->-r /content/Free-AUTO-GPT-with-NO-API/requirements.txt (line 18))\n",
            "  Downloading trio-0.25.1-py3-none-any.whl (467 kB)\n",
            "\u001b[2K     \u001b[90m━━━━━━━━━━━━━━━━━━━━━━━━━━━━━━━━━━━━━━━━\u001b[0m \u001b[32m467.7/467.7 kB\u001b[0m \u001b[31m36.6 MB/s\u001b[0m eta \u001b[36m0:00:00\u001b[0m\n",
            "\u001b[?25hCollecting trio-websocket~=0.9 (from selenium>=4.9.0->undetected-chromedriver>=3.2.1->-r /content/Free-AUTO-GPT-with-NO-API/requirements.txt (line 18))\n",
            "  Downloading trio_websocket-0.11.1-py3-none-any.whl (17 kB)\n",
            "Requirement already satisfied: zipp>=0.5 in /usr/local/lib/python3.10/dist-packages (from importlib-metadata->diffusers->-r /content/Free-AUTO-GPT-with-NO-API/requirements.txt (line 26)) (3.18.2)\n",
            "Requirement already satisfied: wcwidth in /usr/local/lib/python3.10/dist-packages (from prompt-toolkit->EdgeGPT->-r /content/Free-AUTO-GPT-with-NO-API/requirements.txt (line 22)) (0.2.13)\n",
            "Requirement already satisfied: mpmath>=0.19 in /usr/local/lib/python3.10/dist-packages (from sympy->torch->-r /content/Free-AUTO-GPT-with-NO-API/requirements.txt (line 14)) (1.3.0)\n",
            "Collecting smmap<6,>=3.0.1 (from gitdb<5,>=4.0.1->gitpython!=3.1.19,<4,>=3.0.7->streamlit->-r /content/Free-AUTO-GPT-with-NO-API/requirements.txt (line 3))\n",
            "  Downloading smmap-5.0.1-py3-none-any.whl (24 kB)\n",
            "Collecting jsonpointer>=1.9 (from jsonpatch<2.0,>=1.33->langchain-core<0.3.0,>=0.2.0->langchain->-r /content/Free-AUTO-GPT-with-NO-API/requirements.txt (line 2))\n",
            "  Downloading jsonpointer-2.4-py2.py3-none-any.whl (7.8 kB)\n",
            "Requirement already satisfied: jsonschema-specifications>=2023.03.6 in /usr/local/lib/python3.10/dist-packages (from jsonschema>=3.0->altair<6,>=4.0->streamlit->-r /content/Free-AUTO-GPT-with-NO-API/requirements.txt (line 3)) (2023.12.1)\n",
            "Requirement already satisfied: referencing>=0.28.4 in /usr/local/lib/python3.10/dist-packages (from jsonschema>=3.0->altair<6,>=4.0->streamlit->-r /content/Free-AUTO-GPT-with-NO-API/requirements.txt (line 3)) (0.35.1)\n",
            "Requirement already satisfied: rpds-py>=0.7.1 in /usr/local/lib/python3.10/dist-packages (from jsonschema>=3.0->altair<6,>=4.0->streamlit->-r /content/Free-AUTO-GPT-with-NO-API/requirements.txt (line 3)) (0.18.1)\n",
            "Requirement already satisfied: mdurl~=0.1 in /usr/local/lib/python3.10/dist-packages (from markdown-it-py>=2.2.0->rich<14,>=10.14.0->streamlit->-r /content/Free-AUTO-GPT-with-NO-API/requirements.txt (line 3)) (0.1.2)\n",
            "Requirement already satisfied: sortedcontainers in /usr/local/lib/python3.10/dist-packages (from trio~=0.17->selenium>=4.9.0->undetected-chromedriver>=3.2.1->-r /content/Free-AUTO-GPT-with-NO-API/requirements.txt (line 18)) (2.4.0)\n",
            "Collecting outcome (from trio~=0.17->selenium>=4.9.0->undetected-chromedriver>=3.2.1->-r /content/Free-AUTO-GPT-with-NO-API/requirements.txt (line 18))\n",
            "  Downloading outcome-1.3.0.post0-py2.py3-none-any.whl (10 kB)\n",
            "Collecting wsproto>=0.14 (from trio-websocket~=0.9->selenium>=4.9.0->undetected-chromedriver>=3.2.1->-r /content/Free-AUTO-GPT-with-NO-API/requirements.txt (line 18))\n",
            "  Downloading wsproto-1.2.0-py3-none-any.whl (24 kB)\n",
            "Requirement already satisfied: pysocks!=1.5.7,<2.0,>=1.5.6 in /usr/local/lib/python3.10/dist-packages (from urllib3<3,>=1.21.1->requests->-r /content/Free-AUTO-GPT-with-NO-API/requirements.txt (line 1)) (1.7.1)\n",
            "Building wheels for collected packages: wikipedia, undetected-chromedriver\n",
            "  Building wheel for wikipedia (setup.py) ... \u001b[?25l\u001b[?25hdone\n",
            "  Created wheel for wikipedia: filename=wikipedia-1.4.0-py3-none-any.whl size=11680 sha256=b76df63cf01a507accca8dcd0404514564aed5279bd623a181ecc09f1683d8b4\n",
            "  Stored in directory: /root/.cache/pip/wheels/5e/b6/c5/93f3dec388ae76edc830cb42901bb0232504dfc0df02fc50de\n",
            "  Building wheel for undetected-chromedriver (setup.py) ... \u001b[?25l\u001b[?25hdone\n",
            "  Created wheel for undetected-chromedriver: filename=undetected_chromedriver-3.5.5-py3-none-any.whl size=47048 sha256=a13e06bce48aa39d9dce7854a210b53feb96bdd66f9f62c80e8393f067944eb5\n",
            "  Stored in directory: /root/.cache/pip/wheels/cf/a1/db/e1275b6f7259aacd6b045f8bfcb1fcbc93827a3916ba55d5b7\n",
            "Successfully built wikipedia undetected-chromedriver\n",
            "Installing collected packages: faiss-gpu, websockets, watchdog, socksio, smmap, python-dotenv, pyreqwest-impersonate, pyee, py, packaging, outcome, orjson, nvidia-nvtx-cu12, nvidia-nvjitlink-cu12, nvidia-nccl-cu12, nvidia-curand-cu12, nvidia-cufft-cu12, nvidia-cuda-runtime-cu12, nvidia-cuda-nvrtc-cu12, nvidia-cuda-cupti-cu12, nvidia-cublas-cu12, lark, jsonpointer, h11, wsproto, wikipedia, trio, retry, requests-toolbelt, pydeck, playwright, nvidia-cusparse-cu12, nvidia-cudnn-cu12, markdownify, jsonpatch, httpcore, gitdb, duckduckgo-search, trio-websocket, pytest-base-url, nvidia-cusolver-cu12, langsmith, hugchat, httpx, gitpython, diffusers, selenium, pytest-playwright, langchain-core, BingImageCreator, undetected-chromedriver, streamlit, langchain-text-splitters, GoogleBard, EdgeGPT, accelerate, streamlit-chat-media, langchain, gpt4-openai-api\n",
            "  Attempting uninstall: packaging\n",
            "    Found existing installation: packaging 24.0\n",
            "    Uninstalling packaging-24.0:\n",
            "      Successfully uninstalled packaging-24.0\n",
            "Successfully installed BingImageCreator-0.5.0 EdgeGPT-0.13.2 GoogleBard-2.1.0 accelerate-0.30.1 diffusers-0.28.0 duckduckgo-search-6.1.4 faiss-gpu-1.7.2 gitdb-4.0.11 gitpython-3.1.43 gpt4-openai-api-0.9.0 h11-0.14.0 httpcore-1.0.5 httpx-0.27.0 hugchat-0.4.7 jsonpatch-1.33 jsonpointer-2.4 langchain-0.2.1 langchain-core-0.2.3 langchain-text-splitters-0.2.0 langsmith-0.1.67 lark-1.1.9 markdownify-0.12.1 nvidia-cublas-cu12-12.1.3.1 nvidia-cuda-cupti-cu12-12.1.105 nvidia-cuda-nvrtc-cu12-12.1.105 nvidia-cuda-runtime-cu12-12.1.105 nvidia-cudnn-cu12-8.9.2.26 nvidia-cufft-cu12-11.0.2.54 nvidia-curand-cu12-10.3.2.106 nvidia-cusolver-cu12-11.4.5.107 nvidia-cusparse-cu12-12.1.0.106 nvidia-nccl-cu12-2.20.5 nvidia-nvjitlink-cu12-12.5.40 nvidia-nvtx-cu12-12.1.105 orjson-3.10.3 outcome-1.3.0.post0 packaging-23.2 playwright-1.44.0 py-1.11.0 pydeck-0.9.1 pyee-11.1.0 pyreqwest-impersonate-0.4.7 pytest-base-url-2.1.0 pytest-playwright-0.5.0 python-dotenv-1.0.1 requests-toolbelt-1.0.0 retry-0.9.2 selenium-4.21.0 smmap-5.0.1 socksio-1.0.0 streamlit-1.35.0 streamlit-chat-media-0.0.4 trio-0.25.1 trio-websocket-0.11.1 undetected-chromedriver-3.5.5 watchdog-4.0.1 websockets-12.0 wikipedia-1.4.0 wsproto-1.2.0\n",
            "Collecting PyVirtualDisplay\n",
            "  Downloading PyVirtualDisplay-3.0-py3-none-any.whl (15 kB)\n",
            "Installing collected packages: PyVirtualDisplay\n",
            "Successfully installed PyVirtualDisplay-3.0\n"
          ]
        }
      ],
      "source": [
        "!pip install -r /content/Free-AUTO-GPT-with-NO-API/requirements.txt\n",
        "# install dependencies\n",
        "!pip install PyVirtualDisplay\n",
        "!pip install langchain.experimental\n"
      ]
    },
    {
      "cell_type": "markdown",
      "metadata": {
        "id": "k5YdBQWu7eWw"
      },
      "source": [
        "## HOW TO GET TOKEN and Cookies FREE 💡\n",
        ""
      ]
    },
    {
      "cell_type": "markdown",
      "metadata": {
        "id": "Ia_ZQWBi7u1y"
      },
      "source": [
        "\n",
        "\n",
        "- **HUGGINGFACE🤗** : Visit this simple [official guide](https://huggingface.co/docs/hub/security-tokens)\n",
        "\n",
        "- **Now Running also with HuggingCHAT**\n",
        "\n",
        "- **(OPTIONAL BUT BETTER RESULT) CHATGPT🖥** :\n",
        "    1. Go to https://chat.openai.com/chat and open the developer tools by `F12`.\n",
        "    2. Find the `__Secure-next-auth.session-token` cookie in `Application` > `Storage` > `Cookies` > `https://chat.openai.com`.\n",
        "    3. Copy the value in the `Cookie Value` field.\n",
        "\n",
        "\n",
        "![image](https://user-images.githubusercontent.com/19218518/206170122-61fbe94f-4b0c-4782-a344-e26ac0d4e2a7.png)\n",
        "\n",
        "- **(OPTIONAL) Google Bard🖥** :\n",
        "    1. Go toGo to https://bard.google.com/ and open the developer tools by `F12`.\n",
        "    2. Find the `__Secure-1PSID` cookie in `Application` > `Storage` > `Cookies`\n",
        "    3. Copy the value in the `Cookie Value` field.\n",
        "\n",
        "![Cattura](https://user-images.githubusercontent.com/108482353/236518416-ba0fb89c-080d-4e5e-8514-4ed7ac897b55.PNG)\n",
        "\n",
        "\n",
        "\n",
        "- **(OPTIONAL) Bing CHAT** :\n",
        "    1. Check if you have access to [Bing Chat](https://chrome.google.com/webstore/detail/bing-chat-for-all-browser/jofbglonpbndadajbafmmaklbfbkggpo)\n",
        "    2. Install the cookie editor extension for [Chrome](https://chrome.google.com/webstore/detail/cookie-editor/hlkenndednhfkekhgcdicdfddnkalmdm) or [Firefox](https://addons.mozilla.org/en-US/firefox/addon/cookie-editor/)\n",
        "    3. Go to `bing.com`\n",
        "    4. Open the extension for cookie\n",
        "    5. Click \"Export\" on the bottom right, then \"Export as JSON\" (This saves your cookies to clipboard)\n",
        "    6. Paste your cookies into a file `/content/Free-AUTO-GPT-with-NO-API/cookiesBing.json`\n",
        "\n",
        "\n",
        "![image](https://user-images.githubusercontent.com/108482353/236259872-faf7946c-5648-4733-8d66-978040eacd85.png)\n"
      ]
    },
    {
      "cell_type": "markdown",
      "metadata": {
        "id": "ZJ5uN73z8W5q"
      },
      "source": [
        "## 🚀SAVE HERE YOURS TOKENs🚀\n",
        "\n"
      ]
    },
    {
      "cell_type": "code",
      "source": [
        "import os\n",
        "\n",
        "# Hugging FACE\n",
        "os.environ[\"HUGGINGFACE_TOKEN\"] = \"COPY-HERE-TOKEN\"\n",
        "\n",
        "# ChatGPT ( NOT WORKING ON GOOGLE COLAB )\n",
        "os.environ[\"CHATGPT_TOKEN\"] = \"COPY-HERE-TOKEN\"\n",
        "\n",
        "# BING chat ( rember to copy yours cookies into : /content/Free-AUTO-GPT-with-NO-API/cookiesBing.json )\n",
        "os.environ[\"BINGCHAT_COOKIEPATH\"] = \"/content/Free-AUTO-GPT-with-NO-API/cookiesBing.json\"\n",
        "\n",
        "# Google Bard\n",
        "os.environ[\"BARDCHAT_TOKEN\"] = \"COPY-HERE-COOKIE\"\n",
        "\n"
      ],
      "metadata": {
        "id": "15P-9XxdUAyA"
      },
      "execution_count": 7,
      "outputs": []
    },
    {
      "cell_type": "markdown",
      "source": [
        "# ⚠️ DONT RUN **CHATGPT** ISTANCE ON COLAB DOSENT WORK FOR NOW ⚠️\n",
        "# ⚠️ USE ONLY HUGGING CHAT ⚠️"
      ],
      "metadata": {
        "id": "8-DvgafvBUjm"
      }
    },
    {
      "cell_type": "markdown",
      "metadata": {
        "id": "Y6CV8XNvLNOG"
      },
      "source": [
        "## RUN Other Agent or Ddevelop your own Agent 👨‍💻 🧑‍💻"
      ]
    },
    {
      "cell_type": "code",
      "execution_count": 8,
      "metadata": {
        "colab": {
          "base_uri": "https://localhost:8080/"
        },
        "id": "1BhJMiSlLNOh",
        "outputId": "261bc9dc-898b-4dcc-e138-ee171fd657f5"
      },
      "outputs": [
        {
          "output_type": "stream",
          "name": "stdout",
          "text": [
            "csvAgent.py  customAgent.py  FreeLLM  pythonAgent.py  startup.csv  Tool\n"
          ]
        }
      ],
      "source": [
        "# Check for available AGENT\n",
        "!ls /content/Free-AUTO-GPT-with-NO-API/OtherAgent/\n",
        "\n"
      ]
    },
    {
      "cell_type": "code",
      "execution_count": 9,
      "metadata": {
        "colab": {
          "base_uri": "https://localhost:8080/"
        },
        "id": "TU5w982hLNOk",
        "outputId": "d941ba03-f598-440b-9300-e239e2943c2c",
        "collapsed": true
      },
      "outputs": [
        {
          "output_type": "stream",
          "name": "stdout",
          "text": [
            "Traceback (most recent call last):\n",
            "  File \"/content/Free-AUTO-GPT-with-NO-API/OtherAgent/csvAgent.py\", line 4, in <module>\n",
            "    from langchain.agents import create_csv_agent\n",
            "  File \"/usr/local/lib/python3.10/dist-packages/langchain/agents/__init__.py\", line 127, in __getattr__\n",
            "    raise ImportError(\n",
            "ImportError: create_csv_agent has been moved to langchain experimental. See https://github.com/langchain-ai/langchain/discussions/11680for more information.\n",
            "Please update your import statement from: `langchain.agents.create_csv_agent` to `langchain_experimental.agents.create_csv_agent`.\n"
          ]
        }
      ],
      "source": [
        "# open /content/Free-AUTO-GPT-with-NO-API/OtherAgent/FreeLLM/pyChatGPT.py\n",
        "#\n",
        "\n",
        "\n",
        "!python /content/Free-AUTO-GPT-with-NO-API/OtherAgent/csvAgent.py\n",
        "\n",
        "#insert this path for csv : /content/Free-AUTO-GPT-with-NO-API/OtherAgent/startup.csv"
      ]
    },
    {
      "cell_type": "code",
      "execution_count": 10,
      "metadata": {
        "colab": {
          "base_uri": "https://localhost:8080/"
        },
        "id": "xURXyzG8f0GR",
        "outputId": "f884c99f-3ac2-4f01-afce-496051d99194",
        "collapsed": true
      },
      "outputs": [
        {
          "output_type": "stream",
          "name": "stdout",
          "text": [
            "Traceback (most recent call last):\n",
            "  File \"/content/Free-AUTO-GPT-with-NO-API/OtherAgent/pythonAgent.py\", line 4, in <module>\n",
            "    from langchain.agents.agent_toolkits import create_python_agent\n",
            "  File \"<frozen importlib._bootstrap>\", line 1075, in _handle_fromlist\n",
            "  File \"/usr/local/lib/python3.10/dist-packages/langchain/agents/agent_toolkits/__init__.py\", line 120, in __getattr__\n",
            "    relative_path = as_import_path(Path(__file__).parent, suffix=name)\n",
            "  File \"/usr/local/lib/python3.10/dist-packages/langchain_core/_api/path.py\", line 30, in as_import_path\n",
            "    path = get_relative_path(file, relative_to=relative_to)\n",
            "  File \"/usr/local/lib/python3.10/dist-packages/langchain_core/_api/path.py\", line 18, in get_relative_path\n",
            "    return str(file.relative_to(relative_to))\n",
            "  File \"/usr/lib/python3.10/pathlib.py\", line 818, in relative_to\n",
            "    raise ValueError(\"{!r} is not in the subpath of {!r}\"\n",
            "ValueError: '/usr/local/lib/python3.10/dist-packages/langchain/agents/agent_toolkits' is not in the subpath of '/usr/local/lib/python3.10/dist-packages/langchain_core' OR one path is relative and the other is absolute.\n"
          ]
        }
      ],
      "source": [
        "!python /content/Free-AUTO-GPT-with-NO-API/OtherAgent/pythonAgent.py"
      ]
    },
    {
      "cell_type": "code",
      "execution_count": 11,
      "metadata": {
        "colab": {
          "base_uri": "https://localhost:8080/"
        },
        "id": "1WoB_vfjkVSL",
        "outputId": "de2edcc6-9dba-4b47-8130-dcd0b4baf221",
        "collapsed": true
      },
      "outputs": [
        {
          "output_type": "stream",
          "name": "stdout",
          "text": [
            "Traceback (most recent call last):\n",
            "  File \"/usr/local/lib/python3.10/dist-packages/langchain/_api/module_import.py\", line 69, in import_by_name\n",
            "    module = importlib.import_module(new_module)\n",
            "  File \"/usr/lib/python3.10/importlib/__init__.py\", line 126, in import_module\n",
            "    return _bootstrap._gcd_import(name[level:], package, level)\n",
            "  File \"<frozen importlib._bootstrap>\", line 1050, in _gcd_import\n",
            "  File \"<frozen importlib._bootstrap>\", line 1027, in _find_and_load\n",
            "  File \"<frozen importlib._bootstrap>\", line 992, in _find_and_load_unlocked\n",
            "  File \"<frozen importlib._bootstrap>\", line 241, in _call_with_frames_removed\n",
            "  File \"<frozen importlib._bootstrap>\", line 1050, in _gcd_import\n",
            "  File \"<frozen importlib._bootstrap>\", line 1027, in _find_and_load\n",
            "  File \"<frozen importlib._bootstrap>\", line 1004, in _find_and_load_unlocked\n",
            "ModuleNotFoundError: No module named 'langchain_community'\n",
            "\n",
            "The above exception was the direct cause of the following exception:\n",
            "\n",
            "Traceback (most recent call last):\n",
            "  File \"/content/Free-AUTO-GPT-with-NO-API/OtherAgent/customAgent.py\", line 5, in <module>\n",
            "    from langchain.utilities import PythonREPL\n",
            "  File \"/usr/local/lib/python3.10/dist-packages/langchain/utilities/__init__.py\", line 117, in __getattr__\n",
            "    return _import_attribute(name)\n",
            "  File \"/usr/local/lib/python3.10/dist-packages/langchain/_api/module_import.py\", line 72, in import_by_name\n",
            "    raise ModuleNotFoundError(\n",
            "ModuleNotFoundError: Module langchain_community.utilities not found. Please install langchain-community to access this module. You can install it using `pip install -U langchain-community`\n"
          ]
        }
      ],
      "source": [
        "!python /content/Free-AUTO-GPT-with-NO-API/OtherAgent/customAgent.py"
      ]
    },
    {
      "cell_type": "markdown",
      "metadata": {
        "id": "MhiskJ9nJtNC"
      },
      "source": [
        "## RUN BABYAGI 👶"
      ]
    },
    {
      "cell_type": "code",
      "execution_count": 12,
      "metadata": {
        "colab": {
          "base_uri": "https://localhost:8080/"
        },
        "id": "LzZ5l0wHJtNe",
        "outputId": "cf216810-09eb-46dd-defb-6f7cbc88e208"
      },
      "outputs": [
        {
          "output_type": "stream",
          "name": "stdout",
          "text": [
            "Traceback (most recent call last):\n",
            "  File \"/usr/local/lib/python3.10/dist-packages/langchain/_api/module_import.py\", line 69, in import_by_name\n",
            "    module = importlib.import_module(new_module)\n",
            "  File \"/usr/lib/python3.10/importlib/__init__.py\", line 126, in import_module\n",
            "    return _bootstrap._gcd_import(name[level:], package, level)\n",
            "  File \"<frozen importlib._bootstrap>\", line 1050, in _gcd_import\n",
            "  File \"<frozen importlib._bootstrap>\", line 1027, in _find_and_load\n",
            "  File \"<frozen importlib._bootstrap>\", line 992, in _find_and_load_unlocked\n",
            "  File \"<frozen importlib._bootstrap>\", line 241, in _call_with_frames_removed\n",
            "  File \"<frozen importlib._bootstrap>\", line 1050, in _gcd_import\n",
            "  File \"<frozen importlib._bootstrap>\", line 1027, in _find_and_load\n",
            "  File \"<frozen importlib._bootstrap>\", line 1004, in _find_and_load_unlocked\n",
            "ModuleNotFoundError: No module named 'langchain_community'\n",
            "\n",
            "The above exception was the direct cause of the following exception:\n",
            "\n",
            "Traceback (most recent call last):\n",
            "  File \"/content/Free-AUTO-GPT-with-NO-API/BABYAGI.py\", line 8, in <module>\n",
            "    from langchain.vectorstores import FAISS\n",
            "  File \"/usr/local/lib/python3.10/dist-packages/langchain/vectorstores/__init__.py\", line 185, in __getattr__\n",
            "    return _import_attribute(name)\n",
            "  File \"/usr/local/lib/python3.10/dist-packages/langchain/_api/module_import.py\", line 72, in import_by_name\n",
            "    raise ModuleNotFoundError(\n",
            "ModuleNotFoundError: Module langchain_community.vectorstores not found. Please install langchain-community to access this module. You can install it using `pip install -U langchain-community`\n"
          ]
        }
      ],
      "source": [
        "#Open the /content/Free-AUTO-GPT-with-NO-API/BABYAGI.py and Set \"verbose=True\" for view the debug\n",
        "\n",
        "!python /content/Free-AUTO-GPT-with-NO-API/BABYAGI.py"
      ]
    },
    {
      "cell_type": "markdown",
      "metadata": {
        "id": "UnP0gaxW9SBY"
      },
      "source": [
        "## RUN Meta-Prompt 👥"
      ]
    },
    {
      "cell_type": "code",
      "execution_count": 13,
      "metadata": {
        "colab": {
          "base_uri": "https://localhost:8080/"
        },
        "id": "KA0gJrtI7tyW",
        "outputId": "46cf6524-34a9-4c54-cc46-ca31e6929a15"
      },
      "outputs": [
        {
          "output_type": "stream",
          "name": "stdout",
          "text": [
            "/usr/local/lib/python3.10/dist-packages/langchain/__init__.py:29: UserWarning: Importing LLMChain from langchain root module is no longer supported. Please use langchain.chains.LLMChain instead.\n",
            "  warnings.warn(\n",
            "/usr/local/lib/python3.10/dist-packages/langchain/__init__.py:29: UserWarning: Importing PromptTemplate from langchain root module is no longer supported. Please use langchain_core.prompts.PromptTemplate instead.\n",
            "  warnings.warn(\n",
            "Traceback (most recent call last):\n",
            "  File \"/content/Free-AUTO-GPT-with-NO-API/MetaPrompt.py\", line 8, in <module>\n",
            "    from FreeLLM import BingChatAPI  # FREE BINGCHAT API\n",
            "  File \"/content/Free-AUTO-GPT-with-NO-API/FreeLLM/BingChatAPI.py\", line 1, in <module>\n",
            "    from EdgeGPT import Chatbot, ConversationStyle\n",
            "ImportError: cannot import name 'Chatbot' from 'EdgeGPT' (/usr/local/lib/python3.10/dist-packages/EdgeGPT/__init__.py)\n"
          ]
        }
      ],
      "source": [
        "!python /content/Free-AUTO-GPT-with-NO-API/MetaPrompt.py"
      ]
    },
    {
      "cell_type": "markdown",
      "metadata": {
        "id": "H_aNlq64ANbf"
      },
      "source": [
        "## RUN AUTOGPT 🤖"
      ]
    },
    {
      "cell_type": "code",
      "execution_count": 14,
      "metadata": {
        "colab": {
          "base_uri": "https://localhost:8080/"
        },
        "id": "6r5HaCcHANb5",
        "outputId": "52fdc2e0-d5c2-45df-8a42-a53f7b1afa7c"
      },
      "outputs": [
        {
          "output_type": "stream",
          "name": "stdout",
          "text": [
            "Traceback (most recent call last):\n",
            "  File \"/content/Free-AUTO-GPT-with-NO-API/AUTOGPT.py\", line 11, in <module>\n",
            "    from langchain.experimental.autonomous_agents.autogpt.agent import AutoGPT\n",
            "ModuleNotFoundError: No module named 'langchain.experimental'\n"
          ]
        }
      ],
      "source": [
        "#Open the /content/Free-AUTO-GPT-with-NO-API/BABYAGI.py and modify or add new tool\n",
        "\"\"\"\n",
        "#ACTUAL TOOL\n",
        "tools = [\n",
        "    web_search, #DuckDuckGoSearchRun()\n",
        "    WriteFileTool(root_dir=\"/data\"),\n",
        "    ReadFileTool(root_dir=\"/data\"),\n",
        "    process_csv,\n",
        "    query_website_tool, playwright()\n",
        "    # HumanInputRun(), # Activate if you want the permit asking for help from the human\n",
        "]\n",
        "\"\"\"\n",
        "!python /content/Free-AUTO-GPT-with-NO-API/AUTOGPT.py"
      ]
    },
    {
      "cell_type": "markdown",
      "metadata": {
        "id": "9y5lqAosD6xc"
      },
      "source": [
        "## RUN CAMEL with Streamlit.io 🐪\n",
        "\n",
        "---\n"
      ]
    },
    {
      "cell_type": "code",
      "execution_count": 15,
      "metadata": {
        "colab": {
          "base_uri": "https://localhost:8080/"
        },
        "id": "xrgp7pCcEFWw",
        "outputId": "dc6d4c12-63c7-4899-a4a1-8789b8b8428f"
      },
      "outputs": [
        {
          "output_type": "stream",
          "name": "stdout",
          "text": [
            "\u001b[K\u001b[?25h\u001b[37;40mnpm\u001b[0m \u001b[0m\u001b[30;43mWARN\u001b[0m \u001b[0m\u001b[35msaveError\u001b[0m ENOENT: no such file or directory, open '/content/package.json'\n",
            "\u001b[0m\u001b[37;40mnpm\u001b[0m \u001b[0m\u001b[34;40mnotice\u001b[0m\u001b[35m\u001b[0m created a lockfile as package-lock.json. You should commit this file.\n",
            "\u001b[0m\u001b[37;40mnpm\u001b[0m \u001b[0m\u001b[30;43mWARN\u001b[0m \u001b[0m\u001b[35menoent\u001b[0m ENOENT: no such file or directory, open '/content/package.json'\n",
            "\u001b[0m\u001b[37;40mnpm\u001b[0m \u001b[0m\u001b[30;43mWARN\u001b[0m\u001b[35m\u001b[0m content No description\n",
            "\u001b[0m\u001b[37;40mnpm\u001b[0m \u001b[0m\u001b[30;43mWARN\u001b[0m\u001b[35m\u001b[0m content No repository field.\n",
            "\u001b[0m\u001b[37;40mnpm\u001b[0m \u001b[0m\u001b[30;43mWARN\u001b[0m\u001b[35m\u001b[0m content No README data\n",
            "\u001b[0m\u001b[37;40mnpm\u001b[0m \u001b[0m\u001b[30;43mWARN\u001b[0m\u001b[35m\u001b[0m content No license field.\n",
            "\u001b[0m\n",
            "+ localtunnel@2.0.2\n",
            "added 22 packages from 22 contributors and audited 22 packages in 2.427s\n",
            "\n",
            "3 packages are looking for funding\n",
            "  run `npm fund` for details\n",
            "\n",
            "found 1 \u001b[93mmoderate\u001b[0m severity vulnerability\n",
            "  run `npm audit fix` to fix them, or `npm audit` for details\n",
            "\u001b[K\u001b[?25h"
          ]
        }
      ],
      "source": [
        "# SETUP COLAB for run Streamlit\n",
        "!npm install localtunnel"
      ]
    },
    {
      "cell_type": "code",
      "execution_count": null,
      "metadata": {
        "colab": {
          "base_uri": "https://localhost:8080/"
        },
        "id": "BU5tujDCD6x3",
        "outputId": "14c098e7-9483-465a-d644-cf589f583094"
      },
      "outputs": [
        {
          "output_type": "stream",
          "name": "stdout",
          "text": [
            "\u001b[K\u001b[?25hnpx: installed 22 in 2.154s\n",
            "your url is: https://tired-cases-wear.loca.lt\n"
          ]
        }
      ],
      "source": [
        "!streamlit run /content/Free-AUTO-GPT-with-NO-API/Camel.py &>/content/logs.txt &\n",
        "!npx localtunnel --port 8501"
      ]
    }
  ],
  "metadata": {
    "colab": {
      "collapsed_sections": [
        "WWnigaEo63W0",
        "k5YdBQWu7eWw",
        "Y6CV8XNvLNOG",
        "MhiskJ9nJtNC",
        "UnP0gaxW9SBY",
        "H_aNlq64ANbf",
        "9y5lqAosD6xc"
      ],
      "provenance": [],
      "include_colab_link": true
    },
    "kernelspec": {
      "display_name": "Python 3",
      "name": "python3"
    },
    "language_info": {
      "name": "python"
    }
  },
  "nbformat": 4,
  "nbformat_minor": 0
}